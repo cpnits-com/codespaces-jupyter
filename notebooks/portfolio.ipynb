{
 "cells": [
  {
   "cell_type": "markdown",
   "metadata": {},
   "source": [
    "Dit is mijn portfolio"
   ]
  },
  {
   "cell_type": "code",
   "execution_count": 1,
   "metadata": {},
   "outputs": [
    {
     "name": "stdout",
     "output_type": "stream",
     "text": [
      "hello world\n"
     ]
    }
   ],
   "source": [
    "print(\"hello world\")"
   ]
  },
  {
   "cell_type": "markdown",
   "metadata": {},
   "source": [
    "Kijken hoe Jupyter met imports omgaat."
   ]
  },
  {
   "cell_type": "code",
   "execution_count": 11,
   "metadata": {},
   "outputs": [
    {
     "name": "stdout",
     "output_type": "stream",
     "text": [
      "Het is nu 27-08-2024 15:33:27 in Amsterdam en 27-08-2024 22:33:27 in Tokyo.\n"
     ]
    }
   ],
   "source": [
    "import pytz\n",
    "import time\n",
    "import datetime\n",
    "\n",
    "t = time.time()\n",
    "s = \"%d-%m-%Y %H:%M:%S\"\n",
    "nuhier = datetime.datetime.fromtimestamp(t, pytz.timezone(\"Europe/Amsterdam\")).strftime(s)\n",
    "nudaar = datetime.datetime.fromtimestamp(t, pytz.timezone(\"Asia/Tokyo\")).strftime(s)\n",
    "print(f\"Het is nu {nuhier} in Amsterdam en {nudaar} in Tokyo.\")"
   ]
  },
  {
   "cell_type": "code",
   "execution_count": null,
   "metadata": {},
   "outputs": [],
   "source": []
  }
 ],
 "metadata": {
  "kernelspec": {
   "display_name": "Python 3",
   "language": "python",
   "name": "python3"
  },
  "language_info": {
   "codemirror_mode": {
    "name": "ipython",
    "version": 3
   },
   "file_extension": ".py",
   "mimetype": "text/x-python",
   "name": "python",
   "nbconvert_exporter": "python",
   "pygments_lexer": "ipython3",
   "version": "3.12.1"
  }
 },
 "nbformat": 4,
 "nbformat_minor": 2
}
